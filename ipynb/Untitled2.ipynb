{
 "cells": [
  {
   "cell_type": "code",
   "execution_count": 4,
   "id": "5c1f5a58",
   "metadata": {},
   "outputs": [
    {
     "name": "stdout",
     "output_type": "stream",
     "text": [
      "Informacion Carro1\n",
      "Modelo: Bocho 2021\n",
      "Numero de Serie: 123456\n",
      "Agencia: BOSWAWER\n"
     ]
    }
   ],
   "source": [
    "class Carro:\n",
    "    def __init__(self,modelo,num_serie,agencia):\n",
    "        self.modelo = modelo\n",
    "        self.num_serie = num_serie\n",
    "        self.agencia = agencia\n",
    "    def info_carro(self):\n",
    "        print(f'Modelo: {self.modelo}')\n",
    "        print(f'Numero de Serie: {self.num_serie}')\n",
    "        print(f'Agencia: {self.agencia}')\n",
    "Carro1 = Carro('Bocho 2021','123456','BOSWAWER')\n",
    "Carro2 = Carro('Tsuru 2017','123443','NISSAN')\n",
    "Carro3 = Carro('Malib 2000','789987','Chevrolet')\n",
    "\n",
    "print('Informacion Carro1')\n",
    "Carro1.info_carro()"
   ]
  },
  {
   "cell_type": "code",
   "execution_count": 6,
   "id": "77ac8fc6",
   "metadata": {},
   "outputs": [
    {
     "name": "stdout",
     "output_type": "stream",
     "text": [
      "Modelo: JUEGO\n",
      "Numero de Serie: 12345\n",
      "Agencia: toyota\n"
     ]
    }
   ],
   "source": [
    "Carro4 = Carro('JUEGO','12345','toyota')\n",
    "Carro4.info_carro()\n"
   ]
  },
  {
   "cell_type": "code",
   "execution_count": 16,
   "id": "7aa7e1bf",
   "metadata": {},
   "outputs": [],
   "source": [
    "class Operacion:\n",
    "    def __init__(self,a,b):\n",
    "        self.a = a\n",
    "        self.b = b\n",
    "    def suma(self):\n",
    "        suma = self.a + self.b\n",
    "        print(f'La suma es: {suma}')\n"
   ]
  },
  {
   "cell_type": "code",
   "execution_count": 17,
   "id": "e69e70e5",
   "metadata": {},
   "outputs": [
    {
     "name": "stdout",
     "output_type": "stream",
     "text": [
      "La suma es: 12\n"
     ]
    }
   ],
   "source": [
    "Operacion(5,7).suma()"
   ]
  },
  {
   "cell_type": "code",
   "execution_count": 9,
   "id": "4a57cec7",
   "metadata": {},
   "outputs": [
    {
     "name": "stdout",
     "output_type": "stream",
     "text": [
      "La suma es: 11\n"
     ]
    }
   ],
   "source": [
    "Operacion(5,6).suma()"
   ]
  },
  {
   "cell_type": "code",
   "execution_count": 21,
   "id": "0f2d4fb7",
   "metadata": {},
   "outputs": [
    {
     "data": {
      "text/plain": [
       "40.171073846375336"
      ]
     },
     "execution_count": 21,
     "metadata": {},
     "output_type": "execute_result"
    }
   ],
   "source": [
    "import numpy as np\n",
    "np.exp(3) + np.exp(3)"
   ]
  },
  {
   "cell_type": "code",
   "execution_count": 22,
   "id": "62ae4828",
   "metadata": {},
   "outputs": [
    {
     "name": "stdout",
     "output_type": "stream",
     "text": [
      "Id Producto: 1, Nombre: Camisa, Precio: 100.0\n",
      "Id Producto: 2, Nombre: Pantalón, Precio: 150.0\n"
     ]
    }
   ],
   "source": [
    "class Producto:\n",
    "    contador_productos = 0\n",
    "\n",
    "    def __init__(self, nombre, precio):\n",
    "        Producto.contador_productos += 1\n",
    "        self._id_producto = Producto.contador_productos\n",
    "        self._nombre = nombre\n",
    "        self._precio = precio\n",
    "\n",
    "    @property\n",
    "    def precio(self):\n",
    "        return self._precio\n",
    "\n",
    "    def __str__(self):\n",
    "        return f'Id Producto: {self._id_producto}, Nombre: {self._nombre}, Precio: {self._precio}'\n",
    "\n",
    "if __name__ == '__main__':\n",
    "    producto1 = Producto('Camisa', 100.00)\n",
    "    print(producto1)\n",
    "    producto2 = Producto('Pantalón', 150.00)\n",
    "    print(producto2)"
   ]
  },
  {
   "cell_type": "code",
   "execution_count": null,
   "id": "04dea843",
   "metadata": {},
   "outputs": [],
   "source": []
  }
 ],
 "metadata": {
  "kernelspec": {
   "display_name": "Python 3 (ipykernel)",
   "language": "python",
   "name": "python3"
  },
  "language_info": {
   "codemirror_mode": {
    "name": "ipython",
    "version": 3
   },
   "file_extension": ".py",
   "mimetype": "text/x-python",
   "name": "python",
   "nbconvert_exporter": "python",
   "pygments_lexer": "ipython3",
   "version": "3.8.10"
  }
 },
 "nbformat": 4,
 "nbformat_minor": 5
}
