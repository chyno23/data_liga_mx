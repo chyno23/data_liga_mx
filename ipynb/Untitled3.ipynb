{
 "cells": [
  {
   "cell_type": "code",
   "execution_count": null,
   "id": "ef63b7ec",
   "metadata": {},
   "outputs": [],
   "source": [
    "import pandas as pd\n",
    "table_2023_2024 = pd.read_html(\"https://fbref.com/es/comps/31/horario/Resultados-y-partidos-en-Liga-MX\",encoding='UTF-8')\n",
    "table_2022_2023 = pd.read_html(\"https://fbref.com/es/comps/31/2022-2023/horario/Marcadores-y-partidos-de-2022-2023-Liga-MX\", encoding='UTF-8')\n",
    "table_2021_2022 = pd.read_html(\"https://fbref.com/es/comps/31/2021-2022/horario/Marcadores-y-partidos-de-2021-2022-Liga-MX\", encoding='UTF-8')"
   ]
  }
 ],
 "metadata": {
  "kernelspec": {
   "display_name": "Python 3 (ipykernel)",
   "language": "python",
   "name": "python3"
  },
  "language_info": {
   "codemirror_mode": {
    "name": "ipython",
    "version": 3
   },
   "file_extension": ".py",
   "mimetype": "text/x-python",
   "name": "python",
   "nbconvert_exporter": "python",
   "pygments_lexer": "ipython3",
   "version": "3.8.10"
  }
 },
 "nbformat": 4,
 "nbformat_minor": 5
}
